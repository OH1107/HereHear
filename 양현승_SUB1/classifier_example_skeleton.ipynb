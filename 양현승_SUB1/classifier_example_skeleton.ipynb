{
 "cells": [
  {
   "cell_type": "markdown",
   "metadata": {
    "id": "0yCNhkue7wsU"
   },
   "source": [
    "# Samsung Multicam Pytorch Example\n",
    "본 과제에서는 pytorch를 이용하여 분류기 모델을 설계하고, CIFAR10 데이터셋에 대하여 학습 및 테스트 코드를 작성할 예정입니다. \n",
    "\n",
    "------------------\n",
    "## 데이터셋\n",
    "\n",
    "데이터셋을 다루기 위해서는 numpy array로 특정 데이터를 load해야 하고, 이후 pytorch로 연산 가능한 ``torch.*Tensor`` 로 변환해 주어야 합니다.\n",
    "\n",
    "- 이미지 : Pillow, OpenCV 패키지 사용\n",
    "- 오디오(스피치) : scipy, librosa 패키지 사용\n",
    "\n",
    "추가적으로 컴퓨터 비전 데이터를 다룰 때 ``torchvision``이라는 패키지를 사용하면 유용하고, 여러 데이터셋들을 다운 받을 수 있습니다. \n",
    "\n",
    "**본 과제에서는 데이터셋으로 CIFAR10을 사용할 예정입니다.**\n",
    "\n",
    "CIFAR10은 3x32x32 크기의 이미지로 총 10개의 클래스(‘airplane’, ‘automobile’, ‘bird’, ‘cat’, ‘deer’,\n",
    "‘dog’, ‘frog’, ‘horse’, ‘ship’, ‘truck’) 로 구성된 6000장의 데이터셋입니다. \n",
    "\n",
    "------------------\n",
    "## 이미지 분류기 학습시키기\n",
    "본 과제는 아래의 순서로 진행됩니다.\n",
    "\n",
    "1. **데이터셋 준비 및 전처리** : ``torchvision``을 사용하여 CIFAR10 training, test 데이터셋을 load하고 normalize\n",
    "2. **분류기 모델 설계** : CNN을 사용하여 분류기 모델 설계\n",
    "3. **Loss function 정의** : 학습 시 사용되는 loss function 정의하기\n",
    "4. **모델 학습하기** : 1.의 training 데이터셋으로 설정한 epoch만큼 모델을 학습\n",
    "5. **테스트하기** : 학습이 완료된 모델을 1.의 test 데이터셋으로 테스트하기\n",
    "\n",
    "\n",
    "모든 데이터셋이 ``torchvision``으로 다운 받을 수 있는 것은 아니지만, CIFAR10은 torchvision으로 손쉽게 다운받을 수 있습니다.\n",
    "\n"
   ]
  },
  {
   "cell_type": "markdown",
   "metadata": {
    "id": "jSV0g5I8iqRD"
   },
   "source": [
    "**torch**는 pytorch의 가장 상위에 있는 package로써 라이브러리에서 이것저것 불러오기 위해 import\n",
    "\n",
    "**torchvision**은 Computer vision에서 사용하는 각종 테크닉들을 torch와 연동하여 구현한 라이브러리"
   ]
  },
  {
   "cell_type": "code",
   "execution_count": 1,
   "metadata": {
    "executionInfo": {
     "elapsed": 4286,
     "status": "ok",
     "timestamp": 1630302294607,
     "user": {
      "displayName": "hs",
      "photoUrl": "",
      "userId": "02493990478169654413"
     },
     "user_tz": -540
    },
    "id": "gkm1Ft3T7qTb"
   },
   "outputs": [],
   "source": [
    "import torch\n",
    "import torchvision\n",
    "import torchvision.transforms as transforms\n",
    "import matplotlib.pyplot as plt\n",
    "import numpy as np"
   ]
  },
  {
   "cell_type": "markdown",
   "metadata": {
    "id": "wrr9LXjECevY"
   },
   "source": [
    "## 1. 데이터셋 준비 및 전처리\n",
    "- ``torchvision``을 사용하여 CIFAR10 을 load 할 수 있습니다.\n",
    "- ``torchvision.transform`` 을 사용하여 데이터를 normalize할 수 있습니다.\n",
    "\n",
    "**references**\\\n",
    "dataloader(pytorch doc)\\\n",
    "https://pytorch.org/docs/stable/data.html\n",
    "\n",
    "dataloader parameter(blog)\\\n",
    "https://subinium.github.io/pytorch-dataloader/\n"
   ]
  },
  {
   "cell_type": "code",
   "execution_count": 2,
   "metadata": {
    "colab": {
     "base_uri": "https://localhost:8080/",
     "height": 102,
     "referenced_widgets": [
      "597c2950e87844ae983388e1c34aea2a",
      "e3fc9a5bb5244e96b19df95f7ac5a320",
      "30de168dae90483db28a26bd6663ae52",
      "e3c6cc609a7c48a99c1019dda355c1d3",
      "892ef38523b94484bcbaf3d6f85c3727",
      "b5a78bd2633d42ac82a058052d8a7d02",
      "ac4f410d335440f4a0782f405f057006",
      "85674afb33804e7fa9a2bbea8ca7e8e7",
      "436f4d46009948ec9725bfc2595d4c01",
      "60437f5e5a4e460095d625798535cc13",
      "3ca5b4533c454929acfa17ca97d709d3"
     ]
    },
    "executionInfo": {
     "elapsed": 7795,
     "status": "ok",
     "timestamp": 1630302302401,
     "user": {
      "displayName": "hs",
      "photoUrl": "",
      "userId": "02493990478169654413"
     },
     "user_tz": -540
    },
    "id": "kJ8kcdXh_XF_",
    "outputId": "55304786-1284-4374-f602-61e3f4e47f5e"
   },
   "outputs": [
    {
     "name": "stdout",
     "output_type": "stream",
     "text": [
      "Downloading https://www.cs.toronto.edu/~kriz/cifar-10-python.tar.gz to ./data\\cifar-10-python.tar.gz\n"
     ]
    },
    {
     "name": "stderr",
     "output_type": "stream",
     "text": [
      "100.0%"
     ]
    },
    {
     "name": "stdout",
     "output_type": "stream",
     "text": [
      "Extracting ./data\\cifar-10-python.tar.gz to ./data\n",
      "Files already downloaded and verified\n"
     ]
    }
   ],
   "source": [
    "# [0,1] 범위의 데이터셋을 [-1, -1] 범위의 값으로 normalize하도록 transform 정의\n",
    "transform = transforms.Compose(\n",
    "    [transforms.ToTensor(),\n",
    "     transforms.Normalize((0.5, 0.5, 0.5), (0.5, 0.5, 0.5))])\n",
    "\n",
    "\n",
    "# torchvision으로 CIFAR10 trainset load, trainset dataloader 정의\n",
    "trainset = torchvision.datasets.CIFAR10(root='./data', train=True,\n",
    "                                        download=True, transform=transform)\n",
    "trainloader = torch.utils.data.DataLoader(trainset, batch_size=128,\n",
    "                                          shuffle=True, num_workers=2)\n",
    "\n",
    "# torchvision으로 CIFAR10 testset load, trainset dataloader 정의\n",
    "testset = torchvision.datasets.CIFAR10(root='./data', train=False,\n",
    "                                       download=True, transform=transform)\n",
    "testloader = torch.utils.data.DataLoader(testset, batch_size=128,\n",
    "                                         shuffle=False, num_workers=2)\n",
    "# CIFAR10의 10개의 class 정의\n",
    "classes = ('plane', 'car', 'bird', 'cat',\n",
    "           'deer', 'dog', 'frog', 'horse', 'ship', 'truck')"
   ]
  },
  {
   "cell_type": "markdown",
   "metadata": {
    "id": "ZcJw811IIElB"
   },
   "source": [
    "### 데이터 시각화\n",
    "- ``matplotlib``는 python visualization library\n",
    "- ``matplotlib``의 imshow 함수를 데이터들을 시각화 할 수 있습니다.\n",
    "\n",
    "\n",
    "**references**\n",
    "\n",
    "matplotlib doc\\\n",
    "https://matplotlib.org/api/_as_gen/matplotlib.pyplot.imshow.html\n"
   ]
  },
  {
   "cell_type": "code",
   "execution_count": 3,
   "metadata": {
    "colab": {
     "base_uri": "https://localhost:8080/",
     "height": 171
    },
    "executionInfo": {
     "elapsed": 666,
     "status": "ok",
     "timestamp": 1630302303057,
     "user": {
      "displayName": "hs",
      "photoUrl": "",
      "userId": "02493990478169654413"
     },
     "user_tz": -540
    },
    "id": "wozcC72LIDcq",
    "outputId": "6caeee03-1c0a-45c2-80c1-b969d3ebc76b"
   },
   "outputs": [
    {
     "name": "stdout",
     "output_type": "stream",
     "text": [
      "truck   car truck  bird\n"
     ]
    },
    {
     "data": {
      "image/png": "[encoded data removed]",
      "text/plain": [
       "<Figure size 432x288 with 1 Axes>"
      ]
     },
     "metadata": {
      "needs_background": "light"
     },
     "output_type": "display_data"
    }
   ],
   "source": [
    "# Req. 1-1\t데이터셋 준비 및 전처리\n",
    "# 이미지를 시각화하는 함수\n",
    "def visualize(img):\n",
    "    pass\n",
    "    # [-1, -1] 범위로 normalize된 데이터를 [0,1] 범위로 unnormalize\n",
    "\n",
    "    \n",
    "    # img를 numpy값으로 변환\n",
    "    \n",
    "\n",
    "    # plt.imshow함수로 시각화\n",
    "\n",
    "\n",
    "# 트레이닝 데이터를 랜덤 샘플\n",
    "dataiter = iter(trainloader)\n",
    "images, labels = dataiter.next() ## image\n",
    "\n",
    "# show images\n",
    "visualize(torchvision.utils.make_grid(images))\n",
    "\n",
    "# print labels\n",
    "print(' '.join('%5s' % classes[labels[j]] for j in range(4)))"
   ]
  },
  {
   "cell_type": "markdown",
   "metadata": {
    "id": "GKtqen8XJhd3"
   },
   "source": [
    "## 2. 분류기 모델 설계\n",
    "- CNN (Convolutional Neural Network)를 사용하여 모델 설계합니다.\n",
    "- 이미지는 3-channel을 입력으로 받고, 최종적으로 10개의 class에 대한 확률을 구합니다.\n",
    "- 아래의 모델을 예시이므로, layer를 직접 추가해보면서 실험하시길 바랍니다.\n",
    "\n",
    "### Classifier 클래스\n",
    "- nn.Module: 뉴럴넷 구현을 위한 base class. forward, parameter 등 모델을 만들고 사용할 때 필요한 부분들이 내부적으로 구현되어 있음.\n",
    "- torch.nn은 모델을 정의할 때 사용하는 Class들을 포함하고 있음.\n",
    "\n",
    "- init: python class의 constructor. 필요한 멤버변수들을 초기화하고, nn.Sequential or nn.ModuleList를 이용하여 모델의 구성을 정의한다.\n",
    "\n",
    "- forward: 모델의 input을 받고 output을 return하는 함수.\n",
    "\n",
    "### Pytorch functions\n",
    "- ``nn.Conv2d`` : torch.nn.Conv2d(in_channels: int, out_channels: int, kernel_size, stride = 1, padding = 0)\n",
    "- ``nn.Maxpool2d`` : torch.nn.MaxPool2d(kernel_size, stride = None, padding = 0)\n",
    "- ``nn.Linear`` : torch.nn.Linear(in_features: int, out_features: int, bias: bool = True)\n",
    "\n",
    "\n",
    "**references**\n",
    "\n",
    "https://tutorials.pytorch.kr/beginner/examples_nn/two_layer_net_module.html\n",
    "\n",
    "https://pytorch.org/docs/stable/generated/torch.nn.MaxPool2d.html\n",
    "\n",
    "https://pytorch.org/docs/stable/generated/torch.nn.Conv2d.html\n",
    "\n",
    "https://pytorch.org/docs/stable/generated/torch.nn.Linear.html\n",
    "\n",
    "\n",
    "**tips**\n",
    "\n",
    "http://taewan.kim/post/cnn/\n",
    "\n",
    "http://taewan.kim/post/cnn/#4-cnn-%EC%9E%85%EC%B6%9C%EB%A0%A5-%ED%8C%8C%EB%A6%AC%EB%AF%B8%ED%84%B0-%EA%B3%84%EC%82%B0\n",
    "\n",
    "https://mrsyee.github.io/image%20processing/2018/11/28/cnn_technique/\n"
   ]
  },
  {
   "cell_type": "code",
   "execution_count": 2,
   "metadata": {
    "executionInfo": {
     "elapsed": 372,
     "status": "ok",
     "timestamp": 1630302303425,
     "user": {
      "displayName": "hs",
      "photoUrl": "",
      "userId": "02493990478169654413"
     },
     "user_tz": -540
    },
    "id": "fKVX5nxO_Sdx"
   },
   "outputs": [
    {
     "ename": "ModuleNotFoundError",
     "evalue": "No module named 'torch'",
     "output_type": "error",
     "traceback": [
      "\u001b[1;31m---------------------------------------------------------------------------\u001b[0m",
      "\u001b[1;31mModuleNotFoundError\u001b[0m                       Traceback (most recent call last)",
      "\u001b[1;32m<ipython-input-2-9da6cbf1fd9b>\u001b[0m in \u001b[0;36m<module>\u001b[1;34m\u001b[0m\n\u001b[1;32m----> 1\u001b[1;33m \u001b[1;32mimport\u001b[0m \u001b[0mtorch\u001b[0m\u001b[1;33m.\u001b[0m\u001b[0mnn\u001b[0m \u001b[1;32mas\u001b[0m \u001b[0mnn\u001b[0m\u001b[1;33m\u001b[0m\u001b[1;33m\u001b[0m\u001b[0m\n\u001b[0m\u001b[0;32m      2\u001b[0m \u001b[1;32mimport\u001b[0m \u001b[0mtorch\u001b[0m\u001b[1;33m.\u001b[0m\u001b[0mnn\u001b[0m\u001b[1;33m.\u001b[0m\u001b[0mfunctional\u001b[0m \u001b[1;32mas\u001b[0m \u001b[0mF\u001b[0m\u001b[1;33m\u001b[0m\u001b[1;33m\u001b[0m\u001b[0m\n\u001b[0;32m      3\u001b[0m \u001b[1;33m\u001b[0m\u001b[0m\n\u001b[0;32m      4\u001b[0m \u001b[1;31m# Req. 1-2      분류기 모델 설계\u001b[0m\u001b[1;33m\u001b[0m\u001b[1;33m\u001b[0m\u001b[1;33m\u001b[0m\u001b[0m\n\u001b[0;32m      5\u001b[0m \u001b[1;32mclass\u001b[0m \u001b[0mClassifier\u001b[0m\u001b[1;33m(\u001b[0m\u001b[0mnn\u001b[0m\u001b[1;33m.\u001b[0m\u001b[0mModule\u001b[0m\u001b[1;33m)\u001b[0m\u001b[1;33m:\u001b[0m\u001b[1;33m\u001b[0m\u001b[1;33m\u001b[0m\u001b[0m\n",
      "\u001b[1;31mModuleNotFoundError\u001b[0m: No module named 'torch'"
     ]
    }
   ],
   "source": [
    "import torch.nn as nn\n",
    "import torch.nn.functional as F\n",
    "\n",
    "# Req. 1-2\t분류기 모델 설계\n",
    "class Classifier(nn.Module):\n",
    "    def __init__(self):\n",
    "        super(Classifier, self).__init__()\n",
    "        \n",
    "        # 이미지 3-channel 입력\n",
    "        self.conv1 = nn.Conv2d(3, 16, 5)\n",
    "        self.pool = nn.MaxPool2d(2, 2)\n",
    "\n",
    "        # 최종 10개의 class에 대한 확률\n",
    "        self.fc1 = nn.Linear(16*14*14, 128)\n",
    "        self.fc2 = nn.Linear(128, 10)\n",
    "    \n",
    "\n",
    "    def forward(self, x):\n",
    "       \n",
    "        x = self.pool(F.relu(self.conv1(x)))\n",
    "        x = x.view(-1, 16*14*14)\n",
    "        x = F.relu(self.fc1(x))\n",
    "        x = self.fc2(x)\n",
    "        \n",
    "        return x\n",
    "\n",
    "classifier = Classifier()"
   ]
  },
  {
   "cell_type": "markdown",
   "metadata": {
    "id": "5UkSE1RjPV4r"
   },
   "source": [
    "## 3. Loss function 정의\n",
    "- 분류기를 위해서 cross-entropy loss를 사용합니다.\n",
    "- optimzer로 SGD를 사용하고, learning rate, momentum등을 설정해줍니다.\n",
    "\n",
    "### Pytorch functions\n",
    "- ``nn.CrossEntropyLoss`` : torch.nn.CrossEntropyLoss(weight: Optional[torch.Tensor] = None, size_average=None)\n",
    "- ``optim.SGD`` :torch.optim.SGD(params, lr=<required parameter>, momentum=0)\n",
    "\n",
    "**references**\n",
    "\n",
    "https://pytorch.org/docs/stable/generated/torch.nn.CrossEntropyLoss.html\n",
    "\n",
    "https://pytorch.org/docs/stable/optim.html\n",
    "\n",
    "**tips**\n",
    "\n",
    "https://forensics.tistory.com/28\n",
    "\n",
    "https://wordbe.tistory.com/entry/ML-Cross-entropyCategorical-Binary%EC%9D%98-%EC%9D%B4%ED%95%B4\n",
    "\n",
    "https://gomguard.tistory.com/187\n"
   ]
  },
  {
   "cell_type": "code",
   "execution_count": 6,
   "metadata": {
    "executionInfo": {
     "elapsed": 2,
     "status": "ok",
     "timestamp": 1630302303425,
     "user": {
      "displayName": "hs",
      "photoUrl": "",
      "userId": "02493990478169654413"
     },
     "user_tz": -540
    },
    "id": "rE6oTtFZPQRZ"
   },
   "outputs": [],
   "source": [
    "import torch.optim as optim\n",
    "\n",
    "# Req. 1-3\tLoss function 및 optimizer정의\n",
    "\n",
    "# loss function\n",
    "\n",
    "# optimizer\n"
   ]
  },
  {
   "cell_type": "markdown",
   "metadata": {
    "id": "3ENUtPVDShZJ"
   },
   "source": [
    "## 4. 모델 학습시키기\n",
    "1) **첫번째 for문**으로 epochs 만큼 반복\n",
    "\n",
    "2) **두번째 for문**으로 trainset이 저장되어 있는 **trainloader**에서 배치 사이즈 만큼씩 샘플링하여 data load\n",
    "\n",
    "3) load한 data에서 input 값과 label로 분리하여 저장\n",
    "\n",
    "4) 각각의 값을 device에 올린다 (GPU or CPU)\n",
    "\n",
    "5) optimizer에서 gradient 값 0으로 초기화\n",
    "\n",
    "6) model에 input값을 입력하여 forward propagation\n",
    "\n",
    "7) loss function으로 예측값과 label 비교\n",
    "\n",
    "8) loss 값 backpropagation 하여 gradient 계산\n",
    "\n",
    "9) 계산된 gradient를 모두 parameter에 적용\n",
    "\n",
    "10) loss 값을 합하여 일정 주기(ex.2000 batch) 마다 평균 loss 값 출력 후 초기화\n",
    "\n",
    "11) 2)로 돌아가 반복 한뒤 2)가 모두 마치면 1)로 돌아가 반복\n",
    "\n",
    "12) 학습이 마친 이후 모델 저장\n",
    "\n",
    "### Pytorch functions\n",
    "- ``nn.CrossEntropyLoss`` : torch.nn.CrossEntropyLoss(weight: Optional[torch.Tensor] = None, size_average=None)\n",
    "- ``optim.SGD`` :torch.optim.SGD(params, lr=<required parameter>, momentum=0)\n",
    "\n",
    "**references**\n",
    "\n",
    "https://pytorch.org/docs/stable/generated/torch.nn.CrossEntropyLoss.html\n",
    "\n",
    "https://pytorch.org/docs/stable/optim.html\n",
    "\n",
    "https://tutorials.pytorch.kr/beginner/saving_loading_models.html\n",
    "\n",
    "**tips**\n",
    "\n",
    "https://forensics.tistory.com/28\n",
    "\n",
    "https://wordbe.tistory.com/entry/ML-Cross-entropyCategorical-Binary%EC%9D%98-%EC%9D%B4%ED%95%B4\n",
    "\n",
    "https://gomguard.tistory.com/187\n"
   ]
  },
  {
   "cell_type": "markdown",
   "metadata": {
    "id": "TbQnzREJGMmv"
   },
   "source": [
    "### GPU \n",
    "GPU가 있다면 GPU를 통해 학습을 가속화하고, 없으면 CPU로 학습하기 위해 device를 정해줍니다.\n"
   ]
  },
  {
   "cell_type": "code",
   "execution_count": 7,
   "metadata": {
    "executionInfo": {
     "elapsed": 11290,
     "status": "ok",
     "timestamp": 1630302314713,
     "user": {
      "displayName": "hs",
      "photoUrl": "",
      "userId": "02493990478169654413"
     },
     "user_tz": -540
    },
    "id": "1CAEYP7EGXHG"
   },
   "outputs": [],
   "source": [
    "# Req. 1-4\t모델 학습\n",
    "# model을 device에 올린다 (GPU or CPU) \n",
    "# 구현 완료 상태\n",
    "device = torch.device(\"cuda\" if torch.cuda.is_available() else \"cpu\")\n",
    "classifier = classifier.to(device)"
   ]
  },
  {
   "cell_type": "code",
   "execution_count": 1,
   "metadata": {
    "colab": {
     "base_uri": "https://localhost:8080/",
     "height": 239
    },
    "executionInfo": {
     "elapsed": 549,
     "status": "error",
     "timestamp": 1630302285356,
     "user": {
      "displayName": "hs",
      "photoUrl": "",
      "userId": "02493990478169654413"
     },
     "user_tz": -540
    },
    "id": "JmGToygXersF",
    "outputId": "859a8e88-b26f-4c2a-eeea-32b5e1e068e0"
   },
   "outputs": [
    {
     "ename": "IndentationError",
     "evalue": "expected an indented block (<ipython-input-1-92918476641d>, line 40)",
     "output_type": "error",
     "traceback": [
      "\u001b[1;36m  File \u001b[1;32m\"<ipython-input-1-92918476641d>\"\u001b[1;36m, line \u001b[1;32m40\u001b[0m\n\u001b[1;33m    print('Finished Training')\u001b[0m\n\u001b[1;37m                              ^\u001b[0m\n\u001b[1;31mIndentationError\u001b[0m\u001b[1;31m:\u001b[0m expected an indented block\n"
     ]
    }
   ],
   "source": [
    "# Req. 1-4\t모델 학습\n",
    "epochs = 10  #define epochs\n",
    "\n",
    "# 1) for문으로 epochs 만큼 반복\n",
    "for epoch in range(epochs):  # epochs 횟수만큼 반복\n",
    "    \n",
    "    # loss값 누적 \n",
    "    running_loss = 0.0\n",
    "    \n",
    "    # 2) for문으로 trainset이 저장되어 있는 trainloader에서 배치 사이즈 만큼씩 샘플링하여 data load\n",
    "    for batch_idx, data in enumerate(trainloader, 0):\n",
    "        \n",
    "        # 3) load한 data에서 input 값과 label로 분리하여 저장\n",
    "\n",
    "       \n",
    "        # 4) 각각의 값을 device에 올린다 (GPU or CPU)\n",
    "\n",
    "\n",
    "        # 5) optimizer에서 gradient 값 0으로 초기화\n",
    "\n",
    "\n",
    "        # 6) model에 input값을 입력하여 forward propagation\n",
    "\n",
    "\n",
    "        # 7)  loss function으로 예측값과 label 비교\n",
    "\n",
    "        \n",
    "        # 8) loss 값 backpropagation 하여 gradient 계산\n",
    "\n",
    "        \n",
    "        # 9) 계산된 gradient를 모두 parameter에 적용\n",
    "\n",
    "\n",
    "        # 10) loss 값을 합하여 일정 주기(ex.2000 batch) 마다 평균 loss 값 출력 후 초기화\n",
    "\n",
    "\n",
    "# 12) torch.save로 학습이 마친 이후 모델 저장        \n",
    "\n",
    "\n",
    "print('Finished Training')\n"
   ]
  },
  {
   "cell_type": "markdown",
   "metadata": {
    "id": "6gzvPfwUJAtX"
   },
   "source": [
    "## 5. 테스트하기 \n",
    "- 학습이 완료된 모델을 testset이 저장되어 있는 **testloader**에 대하여 성능 평가\n",
    "- 모델을 evaluation 모드로 변경\n",
    "- gradient계산 할 필요가 없고, backpropagation도 진행하지 않는다.\n",
    "\n",
    "### 진행 방식\n",
    "만약 저장한 모델을 load해야 한다면, 모델의 인스턴스를 생성하고, 모델의 weight이 저장되어 있는 .ckpt 파일을 모델에 load\n",
    "\n",
    "1) 모델을 evaluation 모드로 전환\n",
    "\n",
    "2) with torch.no_grad로 gradient 계산을 제외\n",
    "\n",
    "3) for문으로 testset에 저장되어 있는 testloader에서 배치 사이즈 만큼씩 샘플링하여 data load\n",
    "\n",
    "4) load한 data에서 input 값과 label로 분리하여 저장\n",
    "\n",
    "5) 각각의 값을 device에 올린다 (GPU or CPU)\n",
    "\n",
    "6) model에 input값을 입력하여 forward propagation\n",
    "\n",
    "7) 예측한 값들 중 가장 높은 확률의 class 선택\n",
    "\n",
    "8) label과 예측한 class 비교하여 정답 확인\n",
    "\n",
    "9) 정답률 출력\n",
    "\n",
    "### Pytorch functions\n",
    "- ``torch.no_grad`` : gradient를 계산하기 위해 추적하는 수고를 하지 않음\n",
    "\n"
   ]
  },
  {
   "cell_type": "code",
   "execution_count": null,
   "metadata": {
    "id": "R3Ia5zePLyBc"
   },
   "outputs": [],
   "source": [
    "# Req. 1-5\t모델 테스트\n",
    "# 만약 저장한 모델을 load해야 한다면, 모델의 인스턴스를 생성하고, 모델의 weight이 저장되어 있는 .ckpt 파일을 모델에 load\n",
    "new_classifier = Classifier()\n",
    "new_classifier.load_state_dict(torch.load('model_weight.ckpt'))\n",
    "new_classifier.to(device)\n",
    "\n",
    "# 1) 모델을 evaluation 모드로 전환\n",
    "\n",
    "correct = 0\n",
    "total = 0\n",
    "# 2) with torch.no_grad로 gradient 계산을 제외\n",
    "\n",
    "    # 3) for문으로 testset에 저장되어 있는 testloader에서 배치 사이즈 만큼씩 샘플링하여 data load\n",
    "    \n",
    "        \n",
    "         # 4) load한 data에서 input 값과 label로 분리하여 저장\n",
    "        \n",
    "       \n",
    "        # 5) 각각의 값을 device에 올린다 (GPU or CPU)\n",
    "        \n",
    "\n",
    "        # 6) model에 input값을 입력하여 forward propagation\n",
    "        \n",
    "\n",
    "        # 7) 예측한 값들 중 가장 높은 확률의 class 선택\n",
    "       \n",
    "\n",
    "        # 8) label과 예측한 class 비교하여 정답 확인\n",
    "        \n",
    "\n",
    "# 9) 정답률 출력"
   ]
  }
 ],
 "metadata": {
  "accelerator": "GPU",
  "colab": {
   "collapsed_sections": [],
   "name": "classifier_example_skeleton.ipynb",
   "provenance": [
    {
     "file_id": "1p7jF-Hl07EMu7rfG5AbcfAEpManNFv5E",
     "timestamp": 1630288343435
    },
    {
     "file_id": "1_zjD1-MnqnhPpdqQvLrE9dphO653HVZ1",
     "timestamp": 1611753089622
    },
    {
     "file_id": "1ErEZ1DL6p9V-kEW0jMMCGm4jyxUrGEjn",
     "timestamp": 1611047572580
    }
   ]
  },
  "kernelspec": {
   "display_name": "Python 3 (ipykernel)",
   "language": "python",
   "name": "python3"
  },
  "language_info": {
   "codemirror_mode": {
    "name": "ipython",
    "version": 3
   },
   "file_extension": ".py",
   "mimetype": "text/x-python",
   "name": "python",
   "nbconvert_exporter": "python",
   "pygments_lexer": "ipython3",
   "version": "3.7.11"
  },
  "widgets": {
   "application/vnd.jupyter.widget-state+json": {
    "30de168dae90483db28a26bd6663ae52": {
     "model_module": "@jupyter-widgets/controls",
     "model_module_version": "1.5.0",
     "model_name": "HTMLModel",
     "state": {
      "_dom_classes": [],
      "_model_module": "@jupyter-widgets/controls",
      "_model_module_version": "1.5.0",
      "_model_name": "HTMLModel",
      "_view_count": null,
      "_view_module": "@jupyter-widgets/controls",
      "_view_module_version": "1.5.0",
      "_view_name": "HTMLView",
      "description": "",
      "description_tooltip": null,
      "layout": "IPY_MODEL_ac4f410d335440f4a0782f405f057006",
      "placeholder": "​",
      "style": "IPY_MODEL_b5a78bd2633d42ac82a058052d8a7d02",
      "value": ""
     }
    },
    "3ca5b4533c454929acfa17ca97d709d3": {
     "model_module": "@jupyter-widgets/base",
     "model_module_version": "1.2.0",
     "model_name": "LayoutModel",
     "state": {
      "_model_module": "@jupyter-widgets/base",
      "_model_module_version": "1.2.0",
      "_model_name": "LayoutModel",
      "_view_count": null,
      "_view_module": "@jupyter-widgets/base",
      "_view_module_version": "1.2.0",
      "_view_name": "LayoutView",
      "align_content": null,
      "align_items": null,
      "align_self": null,
      "border": null,
      "bottom": null,
      "display": null,
      "flex": null,
      "flex_flow": null,
      "grid_area": null,
      "grid_auto_columns": null,
      "grid_auto_flow": null,
      "grid_auto_rows": null,
      "grid_column": null,
      "grid_gap": null,
      "grid_row": null,
      "grid_template_areas": null,
      "grid_template_columns": null,
      "grid_template_rows": null,
      "height": null,
      "justify_content": null,
      "justify_items": null,
      "left": null,
      "margin": null,
      "max_height": null,
      "max_width": null,
      "min_height": null,
      "min_width": null,
      "object_fit": null,
      "object_position": null,
      "order": null,
      "overflow": null,
      "overflow_x": null,
      "overflow_y": null,
      "padding": null,
      "right": null,
      "top": null,
      "visibility": null,
      "width": null
     }
    },
    "436f4d46009948ec9725bfc2595d4c01": {
     "model_module": "@jupyter-widgets/base",
     "model_module_version": "1.2.0",
     "model_name": "LayoutModel",
     "state": {
      "_model_module": "@jupyter-widgets/base",
      "_model_module_version": "1.2.0",
      "_model_name": "LayoutModel",
      "_view_count": null,
      "_view_module": "@jupyter-widgets/base",
      "_view_module_version": "1.2.0",
      "_view_name": "LayoutView",
      "align_content": null,
      "align_items": null,
      "align_self": null,
      "border": null,
      "bottom": null,
      "display": null,
      "flex": null,
      "flex_flow": null,
      "grid_area": null,
      "grid_auto_columns": null,
      "grid_auto_flow": null,
      "grid_auto_rows": null,
      "grid_column": null,
      "grid_gap": null,
      "grid_row": null,
      "grid_template_areas": null,
      "grid_template_columns": null,
      "grid_template_rows": null,
      "height": null,
      "justify_content": null,
      "justify_items": null,
      "left": null,
      "margin": null,
      "max_height": null,
      "max_width": null,
      "min_height": null,
      "min_width": null,
      "object_fit": null,
      "object_position": null,
      "order": null,
      "overflow": null,
      "overflow_x": null,
      "overflow_y": null,
      "padding": null,
      "right": null,
      "top": null,
      "visibility": null,
      "width": null
     }
    },
    "597c2950e87844ae983388e1c34aea2a": {
     "model_module": "@jupyter-widgets/controls",
     "model_module_version": "1.5.0",
     "model_name": "HBoxModel",
     "state": {
      "_dom_classes": [],
      "_model_module": "@jupyter-widgets/controls",
      "_model_module_version": "1.5.0",
      "_model_name": "HBoxModel",
      "_view_count": null,
      "_view_module": "@jupyter-widgets/controls",
      "_view_module_version": "1.5.0",
      "_view_name": "HBoxView",
      "box_style": "",
      "children": [
       "IPY_MODEL_30de168dae90483db28a26bd6663ae52",
       "IPY_MODEL_e3c6cc609a7c48a99c1019dda355c1d3",
       "IPY_MODEL_892ef38523b94484bcbaf3d6f85c3727"
      ],
      "layout": "IPY_MODEL_e3fc9a5bb5244e96b19df95f7ac5a320"
     }
    },
    "60437f5e5a4e460095d625798535cc13": {
     "model_module": "@jupyter-widgets/controls",
     "model_module_version": "1.5.0",
     "model_name": "DescriptionStyleModel",
     "state": {
      "_model_module": "@jupyter-widgets/controls",
      "_model_module_version": "1.5.0",
      "_model_name": "DescriptionStyleModel",
      "_view_count": null,
      "_view_module": "@jupyter-widgets/base",
      "_view_module_version": "1.2.0",
      "_view_name": "StyleView",
      "description_width": ""
     }
    },
    "85674afb33804e7fa9a2bbea8ca7e8e7": {
     "model_module": "@jupyter-widgets/controls",
     "model_module_version": "1.5.0",
     "model_name": "ProgressStyleModel",
     "state": {
      "_model_module": "@jupyter-widgets/controls",
      "_model_module_version": "1.5.0",
      "_model_name": "ProgressStyleModel",
      "_view_count": null,
      "_view_module": "@jupyter-widgets/base",
      "_view_module_version": "1.2.0",
      "_view_name": "StyleView",
      "bar_color": null,
      "description_width": ""
     }
    },
    "892ef38523b94484bcbaf3d6f85c3727": {
     "model_module": "@jupyter-widgets/controls",
     "model_module_version": "1.5.0",
     "model_name": "HTMLModel",
     "state": {
      "_dom_classes": [],
      "_model_module": "@jupyter-widgets/controls",
      "_model_module_version": "1.5.0",
      "_model_name": "HTMLModel",
      "_view_count": null,
      "_view_module": "@jupyter-widgets/controls",
      "_view_module_version": "1.5.0",
      "_view_name": "HTMLView",
      "description": "",
      "description_tooltip": null,
      "layout": "IPY_MODEL_3ca5b4533c454929acfa17ca97d709d3",
      "placeholder": "​",
      "style": "IPY_MODEL_60437f5e5a4e460095d625798535cc13",
      "value": " 170499072/? [00:03&lt;00:00, 46825915.45it/s]"
     }
    },
    "ac4f410d335440f4a0782f405f057006": {
     "model_module": "@jupyter-widgets/base",
     "model_module_version": "1.2.0",
     "model_name": "LayoutModel",
     "state": {
      "_model_module": "@jupyter-widgets/base",
      "_model_module_version": "1.2.0",
      "_model_name": "LayoutModel",
      "_view_count": null,
      "_view_module": "@jupyter-widgets/base",
      "_view_module_version": "1.2.0",
      "_view_name": "LayoutView",
      "align_content": null,
      "align_items": null,
      "align_self": null,
      "border": null,
      "bottom": null,
      "display": null,
      "flex": null,
      "flex_flow": null,
      "grid_area": null,
      "grid_auto_columns": null,
      "grid_auto_flow": null,
      "grid_auto_rows": null,
      "grid_column": null,
      "grid_gap": null,
      "grid_row": null,
      "grid_template_areas": null,
      "grid_template_columns": null,
      "grid_template_rows": null,
      "height": null,
      "justify_content": null,
      "justify_items": null,
      "left": null,
      "margin": null,
      "max_height": null,
      "max_width": null,
      "min_height": null,
      "min_width": null,
      "object_fit": null,
      "object_position": null,
      "order": null,
      "overflow": null,
      "overflow_x": null,
      "overflow_y": null,
      "padding": null,
      "right": null,
      "top": null,
      "visibility": null,
      "width": null
     }
    },
    "b5a78bd2633d42ac82a058052d8a7d02": {
     "model_module": "@jupyter-widgets/controls",
     "model_module_version": "1.5.0",
     "model_name": "DescriptionStyleModel",
     "state": {
      "_model_module": "@jupyter-widgets/controls",
      "_model_module_version": "1.5.0",
      "_model_name": "DescriptionStyleModel",
      "_view_count": null,
      "_view_module": "@jupyter-widgets/base",
      "_view_module_version": "1.2.0",
      "_view_name": "StyleView",
      "description_width": ""
     }
    },
    "e3c6cc609a7c48a99c1019dda355c1d3": {
     "model_module": "@jupyter-widgets/controls",
     "model_module_version": "1.5.0",
     "model_name": "FloatProgressModel",
     "state": {
      "_dom_classes": [],
      "_model_module": "@jupyter-widgets/controls",
      "_model_module_version": "1.5.0",
      "_model_name": "FloatProgressModel",
      "_view_count": null,
      "_view_module": "@jupyter-widgets/controls",
      "_view_module_version": "1.5.0",
      "_view_name": "ProgressView",
      "bar_style": "success",
      "description": "",
      "description_tooltip": null,
      "layout": "IPY_MODEL_436f4d46009948ec9725bfc2595d4c01",
      "max": 170498071,
      "min": 0,
      "orientation": "horizontal",
      "style": "IPY_MODEL_85674afb33804e7fa9a2bbea8ca7e8e7",
      "value": 170498071
     }
    },
    "e3fc9a5bb5244e96b19df95f7ac5a320": {
     "model_module": "@jupyter-widgets/base",
     "model_module_version": "1.2.0",
     "model_name": "LayoutModel",
     "state": {
      "_model_module": "@jupyter-widgets/base",
      "_model_module_version": "1.2.0",
      "_model_name": "LayoutModel",
      "_view_count": null,
      "_view_module": "@jupyter-widgets/base",
      "_view_module_version": "1.2.0",
      "_view_name": "LayoutView",
      "align_content": null,
      "align_items": null,
      "align_self": null,
      "border": null,
      "bottom": null,
      "display": null,
      "flex": null,
      "flex_flow": null,
      "grid_area": null,
      "grid_auto_columns": null,
      "grid_auto_flow": null,
      "grid_auto_rows": null,
      "grid_column": null,
      "grid_gap": null,
      "grid_row": null,
      "grid_template_areas": null,
      "grid_template_columns": null,
      "grid_template_rows": null,
      "height": null,
      "justify_content": null,
      "justify_items": null,
      "left": null,
      "margin": null,
      "max_height": null,
      "max_width": null,
      "min_height": null,
      "min_width": null,
      "object_fit": null,
      "object_position": null,
      "order": null,
      "overflow": null,
      "overflow_x": null,
      "overflow_y": null,
      "padding": null,
      "right": null,
      "top": null,
      "visibility": null,
      "width": null
     }
    }
   }
  }
 },
 "nbformat": 4,
 "nbformat_minor": 1
}
