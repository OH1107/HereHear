{
 "cells": [
  {
   "cell_type": "markdown",
   "source": [
    "# OCR"
   ],
   "metadata": {}
  },
  {
   "cell_type": "code",
   "execution_count": null,
   "source": [
    "pip install opencv-python"
   ],
   "outputs": [],
   "metadata": {}
  },
  {
   "cell_type": "code",
   "execution_count": 45,
   "source": [
    "import json\n",
    "import cv2\n",
    "import requests\n",
    "import sys"
   ],
   "outputs": [],
   "metadata": {}
  },
  {
   "cell_type": "code",
   "execution_count": 3,
   "source": [
    "OCR_URL = 'https://dapi.kakao.com/v2/vision/text/ocr'\n",
    "appkey = '6ca73d4487a205586f13f1aebfe2f18a'\n",
    "headers = {'Authorization': 'KakaoAK {}'.format(appkey)}"
   ],
   "outputs": [],
   "metadata": {}
  },
  {
   "cell_type": "code",
   "execution_count": 46,
   "source": [
    "image_path = './ocr.jpeg'\n",
    "image = cv2.imread(image_path)\n",
    "image"
   ],
   "outputs": [
    {
     "output_type": "execute_result",
     "data": {
      "text/plain": [
       "array([[[235, 233, 233],\n",
       "        [235, 233, 233],\n",
       "        [235, 233, 233],\n",
       "        ...,\n",
       "        [235, 233, 233],\n",
       "        [235, 233, 233],\n",
       "        [235, 233, 233]],\n",
       "\n",
       "       [[235, 233, 233],\n",
       "        [235, 233, 233],\n",
       "        [235, 233, 233],\n",
       "        ...,\n",
       "        [235, 233, 233],\n",
       "        [235, 233, 233],\n",
       "        [235, 233, 233]],\n",
       "\n",
       "       [[235, 233, 233],\n",
       "        [235, 233, 233],\n",
       "        [235, 233, 233],\n",
       "        ...,\n",
       "        [235, 233, 233],\n",
       "        [235, 233, 233],\n",
       "        [235, 233, 233]],\n",
       "\n",
       "       ...,\n",
       "\n",
       "       [[235, 233, 233],\n",
       "        [235, 233, 233],\n",
       "        [235, 233, 233],\n",
       "        ...,\n",
       "        [235, 233, 233],\n",
       "        [235, 233, 233],\n",
       "        [235, 233, 233]],\n",
       "\n",
       "       [[235, 233, 233],\n",
       "        [235, 233, 233],\n",
       "        [235, 233, 233],\n",
       "        ...,\n",
       "        [235, 233, 233],\n",
       "        [235, 233, 233],\n",
       "        [235, 233, 233]],\n",
       "\n",
       "       [[235, 233, 233],\n",
       "        [235, 233, 233],\n",
       "        [235, 233, 233],\n",
       "        ...,\n",
       "        [235, 233, 233],\n",
       "        [235, 233, 233],\n",
       "        [235, 233, 233]]], dtype=uint8)"
      ]
     },
     "metadata": {},
     "execution_count": 46
    }
   ],
   "metadata": {}
  },
  {
   "cell_type": "code",
   "execution_count": 4,
   "source": [
    "image_path = './ocr.jpeg'\n",
    "image = cv2.imread(image_path)\n",
    "jpeg_image = cv2.imencode(\".jpg\", image)[1]\n",
    "data = jpeg_image.tobytes()"
   ],
   "outputs": [],
   "metadata": {}
  },
  {
   "cell_type": "code",
   "execution_count": 5,
   "source": [
    "ocr_response = requests.post(OCR_URL, headers=headers, files={\"image\": data}).json()"
   ],
   "outputs": [],
   "metadata": {}
  },
  {
   "cell_type": "code",
   "execution_count": 41,
   "source": [
    "tmp_text = []\n",
    "for values in ocr_response['result']:\n",
    "    tmp_text.extend(values['recognition_words'])\n"
   ],
   "outputs": [],
   "metadata": {}
  },
  {
   "cell_type": "code",
   "execution_count": 42,
   "source": [
    "text = ' '.join(tmp_text)"
   ],
   "outputs": [],
   "metadata": {}
  },
  {
   "cell_type": "code",
   "execution_count": 43,
   "source": [
    "text"
   ],
   "outputs": [
    {
     "output_type": "execute_result",
     "data": {
      "text/plain": [
       "'안녕하세요, SSAFY 사무국입니다. 편안한 주말 보내고 계신가요? 실내 생활이 많이 답답하시겠지만, 교육생 여러분은 당분간 외출과 모임 을 자제하고 집에 머물러 주시기 바랍 니다. 가족을 지키고 이웃을 배려하 능 마음으로 방역수칙을 잘 지켜주세'"
      ]
     },
     "metadata": {},
     "execution_count": 43
    }
   ],
   "metadata": {}
  },
  {
   "cell_type": "markdown",
   "source": [
    "# TTS"
   ],
   "metadata": {}
  },
  {
   "cell_type": "code",
   "execution_count": null,
   "source": [
    "pip install gTTS"
   ],
   "outputs": [],
   "metadata": {}
  },
  {
   "cell_type": "code",
   "execution_count": 39,
   "source": [
    "from gtts import gTTS"
   ],
   "outputs": [],
   "metadata": {}
  },
  {
   "cell_type": "code",
   "execution_count": 44,
   "source": [
    "tts = gTTS(text=text, lang='ko')\n",
    "tts.save('test.mp3')"
   ],
   "outputs": [],
   "metadata": {}
  },
  {
   "cell_type": "code",
   "execution_count": 32,
   "source": [
    "# 카카오 tts api\n",
    "tmp_text = ['<speak>']\n",
    "for values in ocr_response['result']:\n",
    "    tmp_text.extend(values['recognition_words'])\n",
    "tmp_text.append('</speak>')\n",
    "text = ' '.join(tmp_text)\n",
    "text = text.encode('utf-8').decode('latin1')\n",
    "\n",
    "TTS_URL = 'https://kakaoi-newtone-openapi.kakao.com/v1/synthesize'\n",
    "appkey = '6ca73d4487a205586f13f1aebfe2f18a'\n",
    "headers = {\n",
    "    'Transfer-Encoding' : 'chunked',\n",
    "    'Content-Type' : 'application/octet-stream',\n",
    "    'Authorization': 'KakaoAK {}'.format(appkey)\n",
    "    }\n",
    "tts_response = requests.post(TTS_URL, headers=headers, data=text)"
   ],
   "outputs": [],
   "metadata": {}
  }
 ],
 "metadata": {
  "orig_nbformat": 4,
  "language_info": {
   "name": "python",
   "version": "3.8.5",
   "mimetype": "text/x-python",
   "codemirror_mode": {
    "name": "ipython",
    "version": 3
   },
   "pygments_lexer": "ipython3",
   "nbconvert_exporter": "python",
   "file_extension": ".py"
  },
  "kernelspec": {
   "name": "python3",
   "display_name": "Python 3.8.5 64-bit ('base': conda)"
  },
  "interpreter": {
   "hash": "8622ff085c15f6cc9f9bc345308196ca585eaf1c49b171850405ec6bc4303143"
  }
 },
 "nbformat": 4,
 "nbformat_minor": 2
}