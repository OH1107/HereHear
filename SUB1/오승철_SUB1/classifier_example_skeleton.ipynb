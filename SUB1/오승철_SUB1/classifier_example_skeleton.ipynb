{
  "nbformat": 4,
  "nbformat_minor": 0,
  "metadata": {
    "accelerator": "GPU",
    "colab": {
      "name": "classifier_example_skeleton.ipynb",
      "provenance": [],
      "collapsed_sections": []
    },
    "kernelspec": {
      "display_name": "Python 3",
      "name": "python3"
    },
    "widgets": {
      "application/vnd.jupyter.widget-state+json": {
        "ba8d692032ab476581ba079f1a3f3b9f": {
          "model_module": "@jupyter-widgets/controls",
          "model_name": "HBoxModel",
          "model_module_version": "1.5.0",
          "state": {
            "_view_name": "HBoxView",
            "_dom_classes": [],
            "_model_name": "HBoxModel",
            "_view_module": "@jupyter-widgets/controls",
            "_model_module_version": "1.5.0",
            "_view_count": null,
            "_view_module_version": "1.5.0",
            "box_style": "",
            "layout": "IPY_MODEL_24e9357b7cca4a67a500b3b5850e26e1",
            "_model_module": "@jupyter-widgets/controls",
            "children": [
              "IPY_MODEL_8546e7eb0287493399136adf61a70eef",
              "IPY_MODEL_a003e37d46aa4ccb8995fed1a30f53ad",
              "IPY_MODEL_88959c68933247f2804962a4711837c5"
            ]
          }
        },
        "24e9357b7cca4a67a500b3b5850e26e1": {
          "model_module": "@jupyter-widgets/base",
          "model_name": "LayoutModel",
          "model_module_version": "1.2.0",
          "state": {
            "_view_name": "LayoutView",
            "grid_template_rows": null,
            "right": null,
            "justify_content": null,
            "_view_module": "@jupyter-widgets/base",
            "overflow": null,
            "_model_module_version": "1.2.0",
            "_view_count": null,
            "flex_flow": null,
            "width": null,
            "min_width": null,
            "border": null,
            "align_items": null,
            "bottom": null,
            "_model_module": "@jupyter-widgets/base",
            "top": null,
            "grid_column": null,
            "overflow_y": null,
            "overflow_x": null,
            "grid_auto_flow": null,
            "grid_area": null,
            "grid_template_columns": null,
            "flex": null,
            "_model_name": "LayoutModel",
            "justify_items": null,
            "grid_row": null,
            "max_height": null,
            "align_content": null,
            "visibility": null,
            "align_self": null,
            "height": null,
            "min_height": null,
            "padding": null,
            "grid_auto_rows": null,
            "grid_gap": null,
            "max_width": null,
            "order": null,
            "_view_module_version": "1.2.0",
            "grid_template_areas": null,
            "object_position": null,
            "object_fit": null,
            "grid_auto_columns": null,
            "margin": null,
            "display": null,
            "left": null
          }
        },
        "8546e7eb0287493399136adf61a70eef": {
          "model_module": "@jupyter-widgets/controls",
          "model_name": "HTMLModel",
          "model_module_version": "1.5.0",
          "state": {
            "_view_name": "HTMLView",
            "style": "IPY_MODEL_7c92189da70b477a803fcb577f46e9d5",
            "_dom_classes": [],
            "description": "",
            "_model_name": "HTMLModel",
            "placeholder": "​",
            "_view_module": "@jupyter-widgets/controls",
            "_model_module_version": "1.5.0",
            "value": "",
            "_view_count": null,
            "_view_module_version": "1.5.0",
            "description_tooltip": null,
            "_model_module": "@jupyter-widgets/controls",
            "layout": "IPY_MODEL_5d4f5b11c54440c683dda0fb978e6609"
          }
        },
        "a003e37d46aa4ccb8995fed1a30f53ad": {
          "model_module": "@jupyter-widgets/controls",
          "model_name": "FloatProgressModel",
          "model_module_version": "1.5.0",
          "state": {
            "_view_name": "ProgressView",
            "style": "IPY_MODEL_efde9e8e26af45acb0d934d01a6013dd",
            "_dom_classes": [],
            "description": "",
            "_model_name": "FloatProgressModel",
            "bar_style": "success",
            "max": 170498071,
            "_view_module": "@jupyter-widgets/controls",
            "_model_module_version": "1.5.0",
            "value": 170498071,
            "_view_count": null,
            "_view_module_version": "1.5.0",
            "orientation": "horizontal",
            "min": 0,
            "description_tooltip": null,
            "_model_module": "@jupyter-widgets/controls",
            "layout": "IPY_MODEL_b23daed9e1e84167b8c3aa02886391ab"
          }
        },
        "88959c68933247f2804962a4711837c5": {
          "model_module": "@jupyter-widgets/controls",
          "model_name": "HTMLModel",
          "model_module_version": "1.5.0",
          "state": {
            "_view_name": "HTMLView",
            "style": "IPY_MODEL_621e854cd1dc44f88ec928685163509e",
            "_dom_classes": [],
            "description": "",
            "_model_name": "HTMLModel",
            "placeholder": "​",
            "_view_module": "@jupyter-widgets/controls",
            "_model_module_version": "1.5.0",
            "value": " 170499072/? [00:06&lt;00:00, 30983079.63it/s]",
            "_view_count": null,
            "_view_module_version": "1.5.0",
            "description_tooltip": null,
            "_model_module": "@jupyter-widgets/controls",
            "layout": "IPY_MODEL_094029d8ca9c4090bd766dce0d81ec15"
          }
        },
        "7c92189da70b477a803fcb577f46e9d5": {
          "model_module": "@jupyter-widgets/controls",
          "model_name": "DescriptionStyleModel",
          "model_module_version": "1.5.0",
          "state": {
            "_view_name": "StyleView",
            "_model_name": "DescriptionStyleModel",
            "description_width": "",
            "_view_module": "@jupyter-widgets/base",
            "_model_module_version": "1.5.0",
            "_view_count": null,
            "_view_module_version": "1.2.0",
            "_model_module": "@jupyter-widgets/controls"
          }
        },
        "5d4f5b11c54440c683dda0fb978e6609": {
          "model_module": "@jupyter-widgets/base",
          "model_name": "LayoutModel",
          "model_module_version": "1.2.0",
          "state": {
            "_view_name": "LayoutView",
            "grid_template_rows": null,
            "right": null,
            "justify_content": null,
            "_view_module": "@jupyter-widgets/base",
            "overflow": null,
            "_model_module_version": "1.2.0",
            "_view_count": null,
            "flex_flow": null,
            "width": null,
            "min_width": null,
            "border": null,
            "align_items": null,
            "bottom": null,
            "_model_module": "@jupyter-widgets/base",
            "top": null,
            "grid_column": null,
            "overflow_y": null,
            "overflow_x": null,
            "grid_auto_flow": null,
            "grid_area": null,
            "grid_template_columns": null,
            "flex": null,
            "_model_name": "LayoutModel",
            "justify_items": null,
            "grid_row": null,
            "max_height": null,
            "align_content": null,
            "visibility": null,
            "align_self": null,
            "height": null,
            "min_height": null,
            "padding": null,
            "grid_auto_rows": null,
            "grid_gap": null,
            "max_width": null,
            "order": null,
            "_view_module_version": "1.2.0",
            "grid_template_areas": null,
            "object_position": null,
            "object_fit": null,
            "grid_auto_columns": null,
            "margin": null,
            "display": null,
            "left": null
          }
        },
        "efde9e8e26af45acb0d934d01a6013dd": {
          "model_module": "@jupyter-widgets/controls",
          "model_name": "ProgressStyleModel",
          "model_module_version": "1.5.0",
          "state": {
            "_view_name": "StyleView",
            "_model_name": "ProgressStyleModel",
            "description_width": "",
            "_view_module": "@jupyter-widgets/base",
            "_model_module_version": "1.5.0",
            "_view_count": null,
            "_view_module_version": "1.2.0",
            "bar_color": null,
            "_model_module": "@jupyter-widgets/controls"
          }
        },
        "b23daed9e1e84167b8c3aa02886391ab": {
          "model_module": "@jupyter-widgets/base",
          "model_name": "LayoutModel",
          "model_module_version": "1.2.0",
          "state": {
            "_view_name": "LayoutView",
            "grid_template_rows": null,
            "right": null,
            "justify_content": null,
            "_view_module": "@jupyter-widgets/base",
            "overflow": null,
            "_model_module_version": "1.2.0",
            "_view_count": null,
            "flex_flow": null,
            "width": null,
            "min_width": null,
            "border": null,
            "align_items": null,
            "bottom": null,
            "_model_module": "@jupyter-widgets/base",
            "top": null,
            "grid_column": null,
            "overflow_y": null,
            "overflow_x": null,
            "grid_auto_flow": null,
            "grid_area": null,
            "grid_template_columns": null,
            "flex": null,
            "_model_name": "LayoutModel",
            "justify_items": null,
            "grid_row": null,
            "max_height": null,
            "align_content": null,
            "visibility": null,
            "align_self": null,
            "height": null,
            "min_height": null,
            "padding": null,
            "grid_auto_rows": null,
            "grid_gap": null,
            "max_width": null,
            "order": null,
            "_view_module_version": "1.2.0",
            "grid_template_areas": null,
            "object_position": null,
            "object_fit": null,
            "grid_auto_columns": null,
            "margin": null,
            "display": null,
            "left": null
          }
        },
        "621e854cd1dc44f88ec928685163509e": {
          "model_module": "@jupyter-widgets/controls",
          "model_name": "DescriptionStyleModel",
          "model_module_version": "1.5.0",
          "state": {
            "_view_name": "StyleView",
            "_model_name": "DescriptionStyleModel",
            "description_width": "",
            "_view_module": "@jupyter-widgets/base",
            "_model_module_version": "1.5.0",
            "_view_count": null,
            "_view_module_version": "1.2.0",
            "_model_module": "@jupyter-widgets/controls"
          }
        },
        "094029d8ca9c4090bd766dce0d81ec15": {
          "model_module": "@jupyter-widgets/base",
          "model_name": "LayoutModel",
          "model_module_version": "1.2.0",
          "state": {
            "_view_name": "LayoutView",
            "grid_template_rows": null,
            "right": null,
            "justify_content": null,
            "_view_module": "@jupyter-widgets/base",
            "overflow": null,
            "_model_module_version": "1.2.0",
            "_view_count": null,
            "flex_flow": null,
            "width": null,
            "min_width": null,
            "border": null,
            "align_items": null,
            "bottom": null,
            "_model_module": "@jupyter-widgets/base",
            "top": null,
            "grid_column": null,
            "overflow_y": null,
            "overflow_x": null,
            "grid_auto_flow": null,
            "grid_area": null,
            "grid_template_columns": null,
            "flex": null,
            "_model_name": "LayoutModel",
            "justify_items": null,
            "grid_row": null,
            "max_height": null,
            "align_content": null,
            "visibility": null,
            "align_self": null,
            "height": null,
            "min_height": null,
            "padding": null,
            "grid_auto_rows": null,
            "grid_gap": null,
            "max_width": null,
            "order": null,
            "_view_module_version": "1.2.0",
            "grid_template_areas": null,
            "object_position": null,
            "object_fit": null,
            "grid_auto_columns": null,
            "margin": null,
            "display": null,
            "left": null
          }
        }
      }
    }
  },
  "cells": [
    {
      "cell_type": "markdown",
      "metadata": {
        "id": "0yCNhkue7wsU"
      },
      "source": [
        "# Samsung Multicam Pytorch Example\n",
        "본 과제에서는 pytorch를 이용하여 분류기 모델을 설계하고, CIFAR10 데이터셋에 대하여 학습 및 테스트 코드를 작성할 예정입니다. \n",
        "\n",
        "------------------\n",
        "## 데이터셋\n",
        "\n",
        "데이터셋을 다루기 위해서는 numpy array로 특정 데이터를 load해야 하고, 이후 pytorch로 연산 가능한 ``torch.*Tensor`` 로 변환해 주어야 합니다.\n",
        "\n",
        "- 이미지 : Pillow, OpenCV 패키지 사용\n",
        "- 오디오(스피치) : scipy, librosa 패키지 사용\n",
        "\n",
        "추가적으로 컴퓨터 비전 데이터를 다룰 때 ``torchvision``이라는 패키지를 사용하면 유용하고, 여러 데이터셋들을 다운 받을 수 있습니다. \n",
        "\n",
        "**본 과제에서는 데이터셋으로 CIFAR10을 사용할 예정입니다.**\n",
        "\n",
        "CIFAR10은 3x32x32 크기의 이미지로 총 10개의 클래스(‘airplane’, ‘automobile’, ‘bird’, ‘cat’, ‘deer’,\n",
        "‘dog’, ‘frog’, ‘horse’, ‘ship’, ‘truck’) 로 구성된 6000장의 데이터셋입니다. \n",
        "\n",
        "------------------\n",
        "## 이미지 분류기 학습시키기\n",
        "본 과제는 아래의 순서로 진행됩니다.\n",
        "\n",
        "1. **데이터셋 준비 및 전처리** : ``torchvision``을 사용하여 CIFAR10 training, test 데이터셋을 load하고 normalize\n",
        "2. **분류기 모델 설계** : CNN을 사용하여 분류기 모델 설계\n",
        "3. **Loss function 정의** : 학습 시 사용되는 loss function 정의하기\n",
        "4. **모델 학습하기** : 1.의 training 데이터셋으로 설정한 epoch만큼 모델을 학습\n",
        "5. **테스트하기** : 학습이 완료된 모델을 1.의 test 데이터셋으로 테스트하기\n",
        "\n",
        "\n",
        "모든 데이터셋이 ``torchvision``으로 다운 받을 수 있는 것은 아니지만, CIFAR10은 torchvision으로 손쉽게 다운받을 수 있습니다.\n",
        "\n"
      ]
    },
    {
      "cell_type": "markdown",
      "metadata": {
        "id": "jSV0g5I8iqRD"
      },
      "source": [
        "**torch**는 pytorch의 가장 상위에 있는 package로써 라이브러리에서 이것저것 불러오기 위해 import\n",
        "\n",
        "**torchvision**은 Computer vision에서 사용하는 각종 테크닉들을 torch와 연동하여 구현한 라이브러리"
      ]
    },
    {
      "cell_type": "code",
      "metadata": {
        "id": "gkm1Ft3T7qTb"
      },
      "source": [
        "import torch\n",
        "import torchvision\n",
        "import torchvision.transforms as transforms\n",
        "import matplotlib.pyplot as plt\n",
        "import numpy as np"
      ],
      "execution_count": null,
      "outputs": []
    },
    {
      "cell_type": "markdown",
      "metadata": {
        "id": "wrr9LXjECevY"
      },
      "source": [
        "## 1. 데이터셋 준비 및 전처리\n",
        "- ``torchvision``을 사용하여 CIFAR10 을 load 할 수 있습니다.\n",
        "- ``torchvision.transform`` 을 사용하여 데이터를 normalize할 수 있습니다.\n",
        "\n",
        "**references**\\\n",
        "dataloader(pytorch doc)\\\n",
        "https://pytorch.org/docs/stable/data.html\n",
        "\n",
        "dataloader parameter(blog)\\\n",
        "https://subinium.github.io/pytorch-dataloader/\n"
      ]
    },
    {
      "cell_type": "code",
      "metadata": {
        "id": "kJ8kcdXh_XF_",
        "colab": {
          "base_uri": "https://localhost:8080/",
          "height": 103,
          "referenced_widgets": [
            "ba8d692032ab476581ba079f1a3f3b9f",
            "24e9357b7cca4a67a500b3b5850e26e1",
            "8546e7eb0287493399136adf61a70eef",
            "a003e37d46aa4ccb8995fed1a30f53ad",
            "88959c68933247f2804962a4711837c5",
            "7c92189da70b477a803fcb577f46e9d5",
            "5d4f5b11c54440c683dda0fb978e6609",
            "efde9e8e26af45acb0d934d01a6013dd",
            "b23daed9e1e84167b8c3aa02886391ab",
            "621e854cd1dc44f88ec928685163509e",
            "094029d8ca9c4090bd766dce0d81ec15"
          ]
        },
        "outputId": "e1d522e6-3bb5-4539-9bcd-9a137188c54e"
      },
      "source": [
        "# [0,1] 범위의 데이터셋을 [-1, 1] 범위의 값으로 normalize하도록 transform 정의\n",
        "transform = transforms.Compose(\n",
        "    [transforms.ToTensor(),\n",
        "     transforms.Normalize((0.5, 0.5, 0.5), (0.5, 0.5, 0.5))])\n",
        "\n",
        "\n",
        "# torchvision으로 CIFAR10 trainset load, trainset dataloader 정의\n",
        "trainset = torchvision.datasets.CIFAR10(root='./data', train=True,\n",
        "                                        download=True, transform=transform)\n",
        "trainloader = torch.utils.data.DataLoader(trainset, batch_size=128,\n",
        "                                          shuffle=True, num_workers=2)\n",
        "\n",
        "# torchvision으로 CIFAR10 testset load, trainset dataloader 정의\n",
        "testset = torchvision.datasets.CIFAR10(root='./data', train=False,\n",
        "                                       download=True, transform=transform)\n",
        "testloader = torch.utils.data.DataLoader(testset, batch_size=128,\n",
        "                                         shuffle=False, num_workers=2)\n",
        "# CIFAR10의 10개의 class 정의\n",
        "classes = ('plane', 'car', 'bird', 'cat',\n",
        "           'deer', 'dog', 'frog', 'horse', 'ship', 'truck')"
      ],
      "execution_count": null,
      "outputs": [
        {
          "output_type": "stream",
          "name": "stdout",
          "text": [
            "Downloading https://www.cs.toronto.edu/~kriz/cifar-10-python.tar.gz to ./data/cifar-10-python.tar.gz\n"
          ]
        },
        {
          "output_type": "display_data",
          "data": {
            "application/vnd.jupyter.widget-view+json": {
              "model_id": "ba8d692032ab476581ba079f1a3f3b9f",
              "version_minor": 0,
              "version_major": 2
            },
            "text/plain": [
              "  0%|          | 0/170498071 [00:00<?, ?it/s]"
            ]
          },
          "metadata": {}
        },
        {
          "output_type": "stream",
          "name": "stdout",
          "text": [
            "Extracting ./data/cifar-10-python.tar.gz to ./data\n",
            "Files already downloaded and verified\n"
          ]
        }
      ]
    },
    {
      "cell_type": "markdown",
      "metadata": {
        "id": "ZcJw811IIElB"
      },
      "source": [
        "### 데이터 시각화\n",
        "- ``matplotlib``는 python visualization library\n",
        "- ``matplotlib``의 imshow 함수를 데이터들을 시각화 할 수 있습니다.\n",
        "\n",
        "\n",
        "**references**\n",
        "\n",
        "matplotlib doc\\\n",
        "https://matplotlib.org/api/_as_gen/matplotlib.pyplot.imshow.html\n"
      ]
    },
    {
      "cell_type": "code",
      "metadata": {
        "colab": {
          "base_uri": "https://localhost:8080/",
          "height": 156
        },
        "id": "wozcC72LIDcq",
        "outputId": "e801ae90-1097-4e84-d915-ed5e6e1b4f26"
      },
      "source": [
        "# Req. 1-1\t데이터셋 준비 및 전처리\n",
        "# 이미지를 시각화하는 함수\n",
        "def visualize(img):\n",
        "    # [-1, 1] 범위로 normalize된 데이터를 [0,1] 범위로 unnormalize\n",
        "    img = img / 2 + 0.5\n",
        "\n",
        "    # img를 numpy값으로 변환\n",
        "    np_img = img.numpy()\n",
        "\n",
        "    # plt.imshow함수로 시각화\n",
        "    plt.imshow(np.transpose(np_img, (1, 2, 0)))\n",
        "\n",
        "# 트레이닝 데이터를 랜덤 샘플\n",
        "dataiter = iter(trainloader)\n",
        "images, labels = dataiter.next() ## image\n",
        "\n",
        "tmp_img = images[:4]\n",
        "\n",
        "# show images\n",
        "visualize(torchvision.utils.make_grid(tmp_img))\n",
        "\n",
        "# print labels\n",
        "print(' '.join('%5s' % classes[labels[j]] for j in range(4)))"
      ],
      "execution_count": null,
      "outputs": [
        {
          "output_type": "stream",
          "name": "stdout",
          "text": [
            " bird  frog horse  deer\n"
          ]
        },
        {
          "output_type": "display_data",
          "data": {
            "image/png": "[encoded data removed]",
            "text/plain": [
              "<Figure size 432x288 with 1 Axes>"
            ]
          },
          "metadata": {
            "needs_background": "light"
          }
        }
      ]
    },
    {
      "cell_type": "markdown",
      "metadata": {
        "id": "GKtqen8XJhd3"
      },
      "source": [
        "## 2. 분류기 모델 설계\n",
        "- CNN (Convolutional Neural Network)를 사용하여 모델 설계합니다.\n",
        "- 이미지는 3-channel을 입력으로 받고, 최종적으로 10개의 class에 대한 확률을 구합니다.\n",
        "- 아래의 모델을 예시이므로, layer를 직접 추가해보면서 실험하시길 바랍니다.\n",
        "\n",
        "### Classifier 클래스\n",
        "- nn.Module: 뉴럴넷 구현을 위한 base class. forward, parameter 등 모델을 만들고 사용할 때 필요한 부분들이 내부적으로 구현되어 있음.\n",
        "- torch.nn은 모델을 정의할 때 사용하는 Class들을 포함하고 있음.\n",
        "\n",
        "- init: python class의 constructor. 필요한 멤버변수들을 초기화하고, nn.Sequential or nn.ModuleList를 이용하여 모델의 구성을 정의한다.\n",
        "\n",
        "- forward: 모델의 input을 받고 output을 return하는 함수.\n",
        "\n",
        "### Pytorch functions\n",
        "- ``nn.Conv2d`` : torch.nn.Conv2d(in_channels: int, out_channels: int, kernel_size, stride = 1, padding = 0)\n",
        "- ``nn.Maxpool2d`` : torch.nn.MaxPool2d(kernel_size, stride = None, padding = 0)\n",
        "- ``nn.Linear`` : torch.nn.Linear(in_features: int, out_features: int, bias: bool = True)\n",
        "\n",
        "\n",
        "**references**\n",
        "\n",
        "https://tutorials.pytorch.kr/beginner/examples_nn/two_layer_net_module.html\n",
        "\n",
        "https://pytorch.org/docs/stable/generated/torch.nn.MaxPool2d.html\n",
        "\n",
        "https://pytorch.org/docs/stable/generated/torch.nn.Conv2d.html\n",
        "\n",
        "https://pytorch.org/docs/stable/generated/torch.nn.Linear.html\n",
        "\n",
        "\n",
        "**tips**\n",
        "\n",
        "http://taewan.kim/post/cnn/\n",
        "\n",
        "http://taewan.kim/post/cnn/#4-cnn-%EC%9E%85%EC%B6%9C%EB%A0%A5-%ED%8C%8C%EB%A6%AC%EB%AF%B8%ED%84%B0-%EA%B3%84%EC%82%B0\n",
        "\n",
        "https://mrsyee.github.io/image%20processing/2018/11/28/cnn_technique/\n"
      ]
    },
    {
      "cell_type": "code",
      "metadata": {
        "id": "fKVX5nxO_Sdx"
      },
      "source": [
        "import torch.nn as nn\n",
        "import torch.nn.functional as F\n",
        "\n",
        "# Req. 1-2\t분류기 모델 설계\n",
        "class Classifier(nn.Module):\n",
        "    def __init__(self):\n",
        "        super(Classifier, self).__init__()\n",
        "        \n",
        "        # 이미지 3-channel 입력\n",
        "        self.conv1 = nn.Conv2d(3, 16, 5)\n",
        "        self.pool = nn.MaxPool2d(2, 2)\n",
        "\n",
        "        # 최종 10개의 class에 대한 확률\n",
        "        self.fc1 = nn.Linear(16*14*14, 128)\n",
        "        self.fc2 = nn.Linear(128, 10)\n",
        "    \n",
        "\n",
        "    def forward(self, x):\n",
        "       \n",
        "        x = self.pool(F.relu(self.conv1(x)))\n",
        "        x = x.view(-1, 16*14*14)\n",
        "        x = F.relu(self.fc1(x))\n",
        "        x = self.fc2(x)\n",
        "        \n",
        "        return x\n",
        "\n",
        "classifier = Classifier()"
      ],
      "execution_count": null,
      "outputs": []
    },
    {
      "cell_type": "markdown",
      "metadata": {
        "id": "5UkSE1RjPV4r"
      },
      "source": [
        "## 3. Loss function 정의\n",
        "- 분류기를 위해서 cross-entropy loss를 사용합니다.\n",
        "- optimzer로 SGD를 사용하고, learning rate, momentum등을 설정해줍니다.\n",
        "\n",
        "### Pytorch functions\n",
        "- ``nn.CrossEntropyLoss`` : torch.nn.CrossEntropyLoss(weight: Optional[torch.Tensor] = None, size_average=None)\n",
        "- ``optim.SGD`` :torch.optim.SGD(params, lr=<required parameter>, momentum=0)\n",
        "\n",
        "**references**\n",
        "\n",
        "https://pytorch.org/docs/stable/generated/torch.nn.CrossEntropyLoss.html\n",
        "\n",
        "https://pytorch.org/docs/stable/optim.html\n",
        "\n",
        "**tips**\n",
        "\n",
        "https://forensics.tistory.com/28\n",
        "\n",
        "https://wordbe.tistory.com/entry/ML-Cross-entropyCategorical-Binary%EC%9D%98-%EC%9D%B4%ED%95%B4\n",
        "\n",
        "https://gomguard.tistory.com/187\n"
      ]
    },
    {
      "cell_type": "code",
      "metadata": {
        "id": "rE6oTtFZPQRZ"
      },
      "source": [
        "import torch.optim as optim\n",
        "\n",
        "# Req. 1-3\tLoss function 및 optimizer정의\n",
        "\n",
        "# loss function\n",
        "criterion = nn.CrossEntropyLoss()\n",
        "\n",
        "# optimizer\n",
        "optimizer = optim.SGD(classifier.parameters(), lr=0.001, momentum=0.9)\n"
      ],
      "execution_count": null,
      "outputs": []
    },
    {
      "cell_type": "markdown",
      "metadata": {
        "id": "3ENUtPVDShZJ"
      },
      "source": [
        "## 4. 모델 학습시키기\n",
        "1) **첫번째 for문**으로 epochs 만큼 반복\n",
        "\n",
        "2) **두번째 for문**으로 trainset이 저장되어 있는 **trainloader**에서 배치 사이즈 만큼씩 샘플링하여 data load\n",
        "\n",
        "3) load한 data에서 input 값과 label로 분리하여 저장\n",
        "\n",
        "4) 각각의 값을 device에 올린다 (GPU or CPU)\n",
        "\n",
        "5) optimizer에서 gradient 값 0으로 초기화\n",
        "\n",
        "6) model에 input값을 입력하여 forward propagation\n",
        "\n",
        "7) loss function으로 예측값과 label 비교\n",
        "\n",
        "8) loss 값 backpropagation 하여 gradient 계산\n",
        "\n",
        "9) 계산된 gradient를 모두 parameter에 적용\n",
        "\n",
        "10) loss 값을 합하여 일정 주기(ex.2000 batch) 마다 평균 loss 값 출력 후 초기화\n",
        "\n",
        "11) 2)로 돌아가 반복 한뒤 2)가 모두 마치면 1)로 돌아가 반복\n",
        "\n",
        "12) 학습이 마친 이후 모델 저장\n",
        "\n",
        "### Pytorch functions\n",
        "- ``nn.CrossEntropyLoss`` : torch.nn.CrossEntropyLoss(weight: Optional[torch.Tensor] = None, size_average=None)\n",
        "- ``optim.SGD`` :torch.optim.SGD(params, lr=<required parameter>, momentum=0)\n",
        "\n",
        "**references**\n",
        "\n",
        "https://pytorch.org/docs/stable/generated/torch.nn.CrossEntropyLoss.html\n",
        "\n",
        "https://pytorch.org/docs/stable/optim.html\n",
        "\n",
        "https://tutorials.pytorch.kr/beginner/saving_loading_models.html\n",
        "\n",
        "**tips**\n",
        "\n",
        "https://forensics.tistory.com/28\n",
        "\n",
        "https://wordbe.tistory.com/entry/ML-Cross-entropyCategorical-Binary%EC%9D%98-%EC%9D%B4%ED%95%B4\n",
        "\n",
        "https://gomguard.tistory.com/187\n"
      ]
    },
    {
      "cell_type": "markdown",
      "metadata": {
        "id": "TbQnzREJGMmv"
      },
      "source": [
        "### GPU \n",
        "GPU가 있다면 GPU를 통해 학습을 가속화하고, 없으면 CPU로 학습하기 위해 device를 정해줍니다.\n"
      ]
    },
    {
      "cell_type": "code",
      "metadata": {
        "id": "1CAEYP7EGXHG"
      },
      "source": [
        "# Req. 1-4\t모델 학습\n",
        "# model을 device에 올린다 (GPU or CPU) \n",
        "# 구현 완료 상태\n",
        "device = torch.device(\"cuda\" if torch.cuda.is_available() else \"cpu\")\n",
        "classifier = classifier.to(device)"
      ],
      "execution_count": null,
      "outputs": []
    },
    {
      "cell_type": "code",
      "metadata": {
        "colab": {
          "base_uri": "https://localhost:8080/"
        },
        "id": "ps0vxw46S09j",
        "outputId": "fe71188d-c77f-4305-a6f0-56f5ca7aba26"
      },
      "source": [
        "len(trainloader)"
      ],
      "execution_count": null,
      "outputs": [
        {
          "output_type": "execute_result",
          "data": {
            "text/plain": [
              "391"
            ]
          },
          "metadata": {},
          "execution_count": 28
        }
      ]
    },
    {
      "cell_type": "code",
      "metadata": {
        "id": "JmGToygXersF",
        "colab": {
          "base_uri": "https://localhost:8080/"
        },
        "outputId": "708f3870-ce6b-48b4-9fc7-4a070d89f2c8"
      },
      "source": [
        "# Req. 1-4\t모델 학습\n",
        "epochs = 10  #define epochs\n",
        "\n",
        "# 1) for문으로 epochs 만큼 반복\n",
        "for epoch in range(epochs):  # epochs 횟수만큼 반복\n",
        "    \n",
        "    # loss값 누적 \n",
        "    running_loss = 0.0\n",
        "    \n",
        "    # 2) for문으로 trainset이 저장되어 있는 trainloader에서 배치 사이즈 만큼씩 샘플링하여 data load\n",
        "    for i, data in enumerate(trainloader, 0):\n",
        "        \n",
        "        # 3) load한 data에서 input 값과 label로 분리하여 저장\n",
        "        inputs, labels = data\n",
        "       \n",
        "        # 4) 각각의 값을 device에 올린다 (GPU or CPU)\n",
        "        inputs, labels = inputs.cuda(), labels.cuda()\n",
        "\n",
        "        # 5) optimizer에서 gradient 값 0으로 초기화\n",
        "        optimizer.zero_grad()        \n",
        "\n",
        "        # 6) model에 input값을 입력하여 forward propagation\n",
        "        outputs = classifier(inputs)\n",
        "\n",
        "        # 7)  loss function으로 예측값과 label 비교\n",
        "        loss = criterion(outputs, labels)\n",
        "        \n",
        "        # 8) loss 값 backpropagation 하여 gradient 계산\n",
        "        loss.backward()\n",
        "        \n",
        "        # 9) 계산된 gradient를 모두 parameter에 적용\n",
        "        optimizer.step()\n",
        "\n",
        "        # 10) loss 값을 합하여 일정 주기(ex.2000 batch) 마다 평균 loss 값 출력 후 초기화\n",
        "        running_loss += loss.item()\n",
        "        if i % 100 == 99:\n",
        "            print('[%d, %5d] loss: %.3f' %\n",
        "                  (epoch + 1, i + 1, running_loss / 2000))\n",
        "            running_loss = 0.0\n",
        "\n",
        "# 12) torch.save로 학습이 마친 이후 모델 저장        \n",
        "torch.save(classifier.state_dict(), 'classifier2.pt')\n",
        "\n",
        "print('Finished Training')\n"
      ],
      "execution_count": null,
      "outputs": [
        {
          "output_type": "stream",
          "name": "stdout",
          "text": [
            "[1,   100] loss: 0.002\n",
            "[1,   200] loss: 0.002\n",
            "[1,   300] loss: 0.002\n",
            "[2,   100] loss: 0.002\n",
            "[2,   200] loss: 0.002\n",
            "[2,   300] loss: 0.002\n",
            "[3,   100] loss: 0.001\n",
            "[3,   200] loss: 0.002\n",
            "[3,   300] loss: 0.002\n",
            "[4,   100] loss: 0.001\n",
            "[4,   200] loss: 0.001\n",
            "[4,   300] loss: 0.002\n",
            "[5,   100] loss: 0.001\n",
            "[5,   200] loss: 0.001\n",
            "[5,   300] loss: 0.001\n",
            "[6,   100] loss: 0.001\n",
            "[6,   200] loss: 0.001\n",
            "[6,   300] loss: 0.002\n",
            "[7,   100] loss: 0.001\n",
            "[7,   200] loss: 0.001\n",
            "[7,   300] loss: 0.001\n",
            "[8,   100] loss: 0.001\n",
            "[8,   200] loss: 0.001\n",
            "[8,   300] loss: 0.001\n",
            "[9,   100] loss: 0.001\n",
            "[9,   200] loss: 0.001\n",
            "[9,   300] loss: 0.001\n",
            "[10,   100] loss: 0.001\n",
            "[10,   200] loss: 0.001\n",
            "[10,   300] loss: 0.001\n",
            "Finished Training\n"
          ]
        }
      ]
    },
    {
      "cell_type": "markdown",
      "metadata": {
        "id": "6gzvPfwUJAtX"
      },
      "source": [
        "## 5. 테스트하기 \n",
        "- 학습이 완료된 모델을 testset이 저장되어 있는 **testloader**에 대하여 성능 평가\n",
        "- 모델을 evaluation 모드로 변경\n",
        "- gradient계산 할 필요가 없고, backpropagation도 진행하지 않는다.\n",
        "\n",
        "### 진행 방식\n",
        "만약 저장한 모델을 load해야 한다면, 모델의 인스턴스를 생성하고, 모델의 weight이 저장되어 있는 .ckpt 파일을 모델에 load\n",
        "\n",
        "1) 모델을 evaluation 모드로 전환\n",
        "\n",
        "2) with torch.no_grad로 gradient 계산을 제외\n",
        "\n",
        "3) for문으로 testset에 저장되어 있는 testloader에서 배치 사이즈 만큼씩 샘플링하여 data load\n",
        "\n",
        "4) load한 data에서 input 값과 label로 분리하여 저장\n",
        "\n",
        "5) 각각의 값을 device에 올린다 (GPU or CPU)\n",
        "\n",
        "6) model에 input값을 입력하여 forward propagation\n",
        "\n",
        "7) 예측한 값들 중 가장 높은 확률의 class 선택\n",
        "\n",
        "8) label과 예측한 class 비교하여 정답 확인\n",
        "\n",
        "9) 정답률 출력\n",
        "\n",
        "### Pytorch functions\n",
        "- ``torch.no_grad`` : gradient를 계산하기 위해 추적하는 수고를 하지 않음\n",
        "\n"
      ]
    },
    {
      "cell_type": "code",
      "metadata": {
        "id": "R3Ia5zePLyBc",
        "colab": {
          "base_uri": "https://localhost:8080/"
        },
        "outputId": "68142e9c-69a5-49ae-902a-8ab9157c79e2"
      },
      "source": [
        "# Req. 1-5\t모델 테스트\n",
        "# 만약 저장한 모델을 load해야 한다면, 모델의 인스턴스를 생성하고, 모델의 weight이 저장되어 있는 .ckpt 파일을 모델에 load\n",
        "new_classifier = Classifier()\n",
        "new_classifier.load_state_dict(torch.load('/content/classifier.pt'))\n",
        "new_classifier.to(device)\n",
        "\n",
        "new_classifier2 = Classifier()\n",
        "new_classifier2.load_state_dict(torch.load('/content/classifier2.pt'))\n",
        "new_classifier2.to(device)\n",
        "\n",
        "\n",
        "# 1) 모델을 evaluation 모드로 전환\n",
        "new_classifier.eval()\n",
        "new_classifier2.eval()\n",
        "\n",
        "correct = 0\n",
        "total = 0\n",
        "\n",
        "# 2) with torch.no_grad로 gradient 계산을 제외\n",
        "with torch.no_grad():\n",
        "    # 3) for문으로 testset에 저장되어 있는 testloader에서 배치 사이즈 만큼씩 샘플링하여 data load\n",
        "    for data in testloader:\n",
        "        \n",
        "         # 4) load한 data에서 input 값과 label로 분리하여 저장\n",
        "        inputs, labels = data\n",
        "       \n",
        "        # 5) 각각의 값을 device에 올린다 (GPU or CPU)\n",
        "        inputs, labels = inputs.cuda(), labels.cuda()\n",
        "\n",
        "        # 6) model에 input값을 입력하여 forward propagation\n",
        "        outputs = new_classifier2(inputs)\n",
        "\n",
        "        # 7) 예측한 값들 중 가장 높은 확률의 class 선택\n",
        "        _, predicted = torch.max(outputs.data, 1)\n",
        "\n",
        "        # 8) label과 예측한 class 비교하여 정답 확인\n",
        "        total += labels.size(0)\n",
        "        correct += (predicted == labels).sum().item()\n",
        "\n",
        "# 9) 정답률 출력\n",
        "print('Accuracy of the network on the 10000 test images: %d %%' % (100 * correct / total))"
      ],
      "execution_count": 46,
      "outputs": [
        {
          "output_type": "stream",
          "name": "stdout",
          "text": [
            "Accuracy of the network on the 10000 test images: 62 %\n"
          ]
        }
      ]
    },
    {
      "cell_type": "markdown",
      "metadata": {
        "id": "0wAdBMkMWU4B"
      },
      "source": [
        "## 6. 테스트 결과 확인하기"
      ]
    },
    {
      "cell_type": "code",
      "metadata": {
        "colab": {
          "base_uri": "https://localhost:8080/",
          "height": 156
        },
        "id": "LPQ6l1RpVXYZ",
        "outputId": "9ebac6dd-3ea7-420f-e4f4-68cbfe354fc5"
      },
      "source": [
        "dataiter = iter(testloader)\n",
        "images, labels = dataiter.next()\n",
        "\n",
        "tmp_img = images[:4]\n",
        "\n",
        "visualize(torchvision.utils.make_grid(tmp_img))\n",
        "print('GroundTruth: ', ' '.join('%5s' % classes[labels[j]] for j in range(4)))"
      ],
      "execution_count": 43,
      "outputs": [
        {
          "output_type": "stream",
          "name": "stdout",
          "text": [
            "GroundTruth:    cat  ship  ship plane\n"
          ]
        },
        {
          "output_type": "display_data",
          "data": {
            "image/png": "[encoded data removed]",
            "text/plain": [
              "<Figure size 432x288 with 1 Axes>"
            ]
          },
          "metadata": {
            "needs_background": "light"
          }
        }
      ]
    },
    {
      "cell_type": "code",
      "metadata": {
        "colab": {
          "base_uri": "https://localhost:8080/"
        },
        "id": "MmLvBo9bVzOQ",
        "outputId": "7411dfa9-a2db-4fbf-883f-6e41a9636207"
      },
      "source": [
        "val_classifier = Classifier()\n",
        "val_classifier.load_state_dict(torch.load('/content/classifier.pt'))\n",
        "\n",
        "outputs = val_classifier(tmp_img)\n",
        "\n",
        "_, predicted = torch.max(outputs, 1)\n",
        "\n",
        "print('Predicted: ', ' '.join('%5s' % classes[predicted[j]] for j in range(4)))"
      ],
      "execution_count": 44,
      "outputs": [
        {
          "output_type": "stream",
          "name": "stdout",
          "text": [
            "Predicted:    cat   car  ship plane\n"
          ]
        }
      ]
    },
    {
      "cell_type": "code",
      "metadata": {
        "colab": {
          "base_uri": "https://localhost:8080/"
        },
        "id": "b7eBgtwcWPI4",
        "outputId": "fad0e42d-639b-48fb-e7fd-aae6e4f85ad4"
      },
      "source": [
        "val_classifier2 = Classifier()\n",
        "val_classifier2.load_state_dict(torch.load('/content/classifier2.pt'))\n",
        "\n",
        "outputs = val_classifier2(tmp_img)\n",
        "\n",
        "_, predicted = torch.max(outputs, 1)\n",
        "\n",
        "print('Predicted: ', ' '.join('%5s' % classes[predicted[j]] for j in range(4)))"
      ],
      "execution_count": 45,
      "outputs": [
        {
          "output_type": "stream",
          "name": "stdout",
          "text": [
            "Predicted:    cat   car  ship plane\n"
          ]
        }
      ]
    }
  ]
}